{
 "cells": [
  {
   "cell_type": "code",
   "execution_count": 1,
   "metadata": {},
   "outputs": [],
   "source": [
    "import pila_cola as pc"
   ]
  },
  {
   "cell_type": "code",
   "execution_count": 2,
   "metadata": {},
   "outputs": [
    {
     "name": "stdout",
     "output_type": "stream",
     "text": [
      "Cola:  [1, 2, 3]\n",
      "Elemento retirado:  1\n",
      "Elemento en el tope:  3\n"
     ]
    }
   ],
   "source": [
    "cola = pc.Cola()\n",
    "cola.eenqqueue_cola(1)\n",
    "cola.eenqqueue_cola(2)\n",
    "cola.eenqqueue_cola(3)\n",
    "\n",
    "print(\"Cola: \", cola.items)\n",
    "print(\"Elemento retirado: \", cola.dequeue_cola())\n",
    "print(\"Elemento en el tope: \", cola.peek_cola())"
   ]
  },
  {
   "cell_type": "code",
   "execution_count": 3,
   "metadata": {},
   "outputs": [
    {
     "name": "stdout",
     "output_type": "stream",
     "text": [
      "[2]\n"
     ]
    }
   ],
   "source": [
    "print(cola.items)"
   ]
  }
 ],
 "metadata": {
  "kernelspec": {
   "display_name": "Python 3",
   "language": "python",
   "name": "python3"
  },
  "language_info": {
   "codemirror_mode": {
    "name": "ipython",
    "version": 3
   },
   "file_extension": ".py",
   "mimetype": "text/x-python",
   "name": "python",
   "nbconvert_exporter": "python",
   "pygments_lexer": "ipython3",
   "version": "3.11.6"
  }
 },
 "nbformat": 4,
 "nbformat_minor": 2
}
