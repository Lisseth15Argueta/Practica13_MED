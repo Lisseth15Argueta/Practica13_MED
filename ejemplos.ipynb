{
 "cells": [
  {
   "cell_type": "code",
   "execution_count": 1,
   "metadata": {},
   "outputs": [],
   "source": [
    "import pila_cola as pc"
   ]
  },
  {
   "cell_type": "code",
   "execution_count": 2,
   "metadata": {},
   "outputs": [
    {
     "name": "stdout",
     "output_type": "stream",
     "text": [
      "Pila:  [1, 2, 3]\n",
      "Elemento retirado:  3\n",
      "Elemento en el tope:  2\n"
     ]
    }
   ],
   "source": [
    "pila = pc.Pila()\n",
    "pila.push_pila(1)\n",
    "pila.push_pila(2)\n",
    "pila.push_pila(3)\n",
    "\n",
    "print(\"Pila: \", pila.items)\n",
    "print(\"Elemento retirado: \", pila.pop_pila())\n",
    "print(\"Elemento en el tope: \", pila.peek_pila())"
   ]
  },
  {
   "cell_type": "code",
   "execution_count": 16,
   "metadata": {},
   "outputs": [
    {
     "name": "stdout",
     "output_type": "stream",
     "text": [
      "[1, 2]\n"
     ]
    }
   ],
   "source": [
    "print(pila.items)"
   ]
  }
 ],
 "metadata": {
  "kernelspec": {
   "display_name": "Python 3",
   "language": "python",
   "name": "python3"
  },
  "language_info": {
   "codemirror_mode": {
    "name": "ipython",
    "version": 3
   },
   "file_extension": ".py",
   "mimetype": "text/x-python",
   "name": "python",
   "nbconvert_exporter": "python",
   "pygments_lexer": "ipython3",
   "version": "3.11.6"
  }
 },
 "nbformat": 4,
 "nbformat_minor": 2
}
